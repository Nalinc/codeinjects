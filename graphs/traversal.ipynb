{
  "nbformat": 4,
  "nbformat_minor": 0,
  "metadata": {
    "colab": {
      "name": "traversal.ipynb",
      "provenance": [],
      "include_colab_link": true
    },
    "kernelspec": {
      "name": "python3",
      "display_name": "Python 3"
    }
  },
  "cells": [
    {
      "cell_type": "markdown",
      "metadata": {
        "id": "view-in-github",
        "colab_type": "text"
      },
      "source": [
        "<a href=\"https://colab.research.google.com/github/Nalinc/codeinjects/blob/master/graphs/traversal.ipynb\" target=\"_parent\"><img src=\"https://colab.research.google.com/assets/colab-badge.svg\" alt=\"Open In Colab\"/></a>"
      ]
    },
    {
      "cell_type": "code",
      "metadata": {
        "id": "DD0WbUel8QLB",
        "colab_type": "code",
        "colab": {}
      },
      "source": [
        "# libraries\n",
        "import pandas as pd\n",
        "import numpy as np\n",
        "import networkx as nx\n",
        "import matplotlib.pyplot as plt\n"
      ],
      "execution_count": 0,
      "outputs": []
    },
    {
      "cell_type": "code",
      "metadata": {
        "id": "PFn4f5SUQxak",
        "colab_type": "code",
        "colab": {}
      },
      "source": [
        "def visualizeGraph(graph, representation):\n",
        "  from_list = []\n",
        "  to_list = []\n",
        "  if representation == \"adj_list\":\n",
        "    for key in graph:\n",
        "      for index, item in enumerate(graph[key]):\n",
        "        from_list.append(key)\n",
        "        to_list.append(item)\n",
        "  if representation == \"adj_matrix\":\n",
        "    for index_i, row in enumerate(graph):\n",
        "      for index_j, column in enumerate(row):\n",
        "        if column:\n",
        "          from_list.append(index_i)\n",
        "          to_list.append(index_j)\n",
        "  if representation == \"edge_list\":\n",
        "    for edge in graph:\n",
        "      from_list.append(edge[0])\n",
        "      to_list.append(edge[1])\n",
        "\n",
        "  # from_list = ['D', 'A', 'B', 'C','A']\n",
        "  # to_list = ['A', 'D', 'A', 'E','C']\n",
        "\n",
        "  df = pd.DataFrame({ 'from':from_list, 'to':to_list})\n",
        "  \n",
        "  # Build your graph. Note that we use the DiGraph function to create the graph!\n",
        "  G=nx.from_pandas_edgelist(df, 'from', 'to', create_using=nx.DiGraph() )\n",
        "  \n",
        "  # Make the graph\n",
        "  nx.draw(G, with_labels=True, node_size=1500, alpha=1, arrows=False)\n"
      ],
      "execution_count": 0,
      "outputs": []
    },
    {
      "cell_type": "code",
      "metadata": {
        "id": "OhcWuYSiWF5d",
        "colab_type": "code",
        "colab": {
          "base_uri": "https://localhost:8080/",
          "height": 319
        },
        "outputId": "f9734a36-065a-4fa9-fc9e-87cc1556cfd6"
      },
      "source": [
        "matrix = [\n",
        "          [0,1,1,0,0,0],\n",
        "          [1,0,0,1,1,0],\n",
        "          [1,0,0,0,1,0],\n",
        "          [0,1,0,0,1,1],\n",
        "          [0,1,0,1,0,1],\n",
        "          [0,0,0,1,1,0]\n",
        "]\n",
        "\n",
        "edges = [ [0,1], [1,0], [0,2], [2,0], [1,4], [4,1], [1,3], [3,1], [3,4], [4,3], [3,5], [5,3], [4,5], [5,5], [4,2], [2,4] ]\n",
        "def adj_matrix_to_adj_list(matrix):\n",
        "  adj_list = { i:[] for i in range(len(matrix))}\n",
        "  # print(adj_list)\n",
        "  for index_i,row in enumerate(matrix):\n",
        "    for index_j,item in enumerate(row):\n",
        "      # print(item)\n",
        "      if item:\n",
        "        adj_list[index_i].append(index_j)\n",
        "  return adj_list\n",
        "\n",
        "graph = adj_matrix_to_adj_list(matrix)\n",
        "visualizeGraph(graph, representation=\"adj_list\")\n",
        "# visualizeGraph(matrix, representation=\"adj_matrix\")\n",
        "# visualizeGraph(edges, representation=\"edge_list\")"
      ],
      "execution_count": 45,
      "outputs": [
        {
          "output_type": "display_data",
          "data": {
            "image/png": "[encoded data removed]",
            "text/plain": [
              "<Figure size 432x288 with 1 Axes>"
            ]
          },
          "metadata": {
            "tags": []
          }
        }
      ]
    },
    {
      "cell_type": "code",
      "metadata": {
        "id": "023WFcdiQ1DN",
        "colab_type": "code",
        "colab": {
          "base_uri": "https://localhost:8080/",
          "height": 34
        },
        "outputId": "d31d3231-0047-4a03-e400-f018c6945a40"
      },
      "source": [
        "### Iterative way\n",
        "# def dfs(root):\n",
        "#   visited, stack = [], [root]\n",
        "#   while stack:\n",
        "#     vertex = stack.pop()\n",
        "#     if vertex not in visited:\n",
        "#       visited.append(vertex)\n",
        "#       stack.extend(set(graph[vertex]) - set(visited))\n",
        "#   return visited\n",
        "\n",
        "### Recursive way\n",
        "visited = [False] * (len(graph))\n",
        "visited_path = []\n",
        "def dfs(vertex):\n",
        "  visited[vertex] = True\n",
        "  visited_path.append(vertex)\n",
        "  # print(vertex)\n",
        "  for neighbour in graph[vertex]: \n",
        "    if not visited[neighbour]:\n",
        "      dfs(neighbour)\n",
        "  return visited_path\n",
        "dfs(0)"
      ],
      "execution_count": 54,
      "outputs": [
        {
          "output_type": "execute_result",
          "data": {
            "text/plain": [
              "[0, 1, 3, 4, 5, 2]"
            ]
          },
          "metadata": {
            "tags": []
          },
          "execution_count": 54
        }
      ]
    },
    {
      "cell_type": "code",
      "metadata": {
        "id": "7tVHLPlYwvaD",
        "colab_type": "code",
        "colab": {
          "base_uri": "https://localhost:8080/",
          "height": 34
        },
        "outputId": "1340a827-e810-4fcf-9a66-9e92e7e390e7"
      },
      "source": [
        ""
      ],
      "execution_count": 47,
      "outputs": [
        {
          "output_type": "execute_result",
          "data": {
            "text/plain": [
              "[0, 2, 4, 5, 3, 1]"
            ]
          },
          "metadata": {
            "tags": []
          },
          "execution_count": 47
        }
      ]
    },
    {
      "cell_type": "code",
      "metadata": {
        "id": "HodPgpjZwxgK",
        "colab_type": "code",
        "colab": {}
      },
      "source": [
        ""
      ],
      "execution_count": 0,
      "outputs": []
    }
  ]
}